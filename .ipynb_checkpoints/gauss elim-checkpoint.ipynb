{
 "cells": [
  {
   "cell_type": "code",
   "execution_count": 93,
   "metadata": {},
   "outputs": [],
   "source": [
    "def concat(matrix_a, matrix_b):\n",
    "    if len(matrix_a) != len(matrix_a[0]):\n",
    "        print(\"Matrix A is not a square matrix\")\n",
    "    if len(matrix_a[0]) != len(matrix_b):\n",
    "        print(\"width of matrix A does not match length of matrix B\")\n",
    "        return\n",
    "    for i in range(len(matrix_a)):\n",
    "        matrix_a[i].append(matrix_b[i])\n",
    "    return matrix_a"
   ]
  },
  {
   "cell_type": "code",
   "execution_count": 94,
   "metadata": {},
   "outputs": [],
   "source": [
    "a_matrix = [[1, 3, 5],\n",
    "            [4, 5, 6],\n",
    "            [11, 2, 8]]\n",
    "b_matrix = [23,43,64]"
   ]
  },
  {
   "cell_type": "code",
   "execution_count": 95,
   "metadata": {},
   "outputs": [],
   "source": [
    "n = len(a_matrix)"
   ]
  },
  {
   "cell_type": "code",
   "execution_count": 96,
   "metadata": {},
   "outputs": [
    {
     "name": "stdout",
     "output_type": "stream",
     "text": [
      "[[1, 3, 5, 23], [4, 5, 6, 43], [11, 2, 8, 64]]\n"
     ]
    }
   ],
   "source": [
    "augmented_matrix = concat(a_matrix, b_matrix)"
   ]
  },
  {
   "cell_type": "code",
   "execution_count": 113,
   "metadata": {},
   "outputs": [
    {
     "name": "stdout",
     "output_type": "stream",
     "text": [
      "[[1, 3, 5, 23], [0.0, -10.0, -24.0, 43.0], [0.0, 0.0, -810.56, 64.0]]\n",
      "[[1, 3, 5, 23], [0.0, -10.0, -24.0, 43.0], [0.0, 0.0, -810.56, 64.0]]\n"
     ]
    }
   ],
   "source": [
    "for k in range(n-1):\n",
    "    for i in range(k+1, n):\n",
    "        #print(\"augmented_matrix[i][k]: \", augmented_matrix[i][k])\n",
    "        factor = augmented_matrix[i][k]/augmented_matrix[k][k]\n",
    "        for j in range(k, n):\n",
    "            augmented_matrix[i][j] = augmented_matrix[i][j] - factor * augmented_matrix[k][j]\n",
    "            #print(\"augmented_matrix: \", augmented_matrix)\n",
    "        #print(\"iteration k: \", k, \", iteration i: \", i, \"iteration j: \", j)\n",
    "for i in range(n, 1):\n",
    "    augmented_matrix[i][-1]\n",
    "print(augmented_matrix)"
   ]
  }
 ],
 "metadata": {
  "kernelspec": {
   "display_name": "Python 3 (ipykernel)",
   "language": "python",
   "name": "python3"
  },
  "language_info": {
   "codemirror_mode": {
    "name": "ipython",
    "version": 3
   },
   "file_extension": ".py",
   "mimetype": "text/x-python",
   "name": "python",
   "nbconvert_exporter": "python",
   "pygments_lexer": "ipython3",
   "version": "3.12.4"
  }
 },
 "nbformat": 4,
 "nbformat_minor": 4
}
