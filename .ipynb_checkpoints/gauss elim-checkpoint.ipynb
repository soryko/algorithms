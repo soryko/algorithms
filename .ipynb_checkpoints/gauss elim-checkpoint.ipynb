{
 "cells": [
  {
   "cell_type": "code",
   "execution_count": 149,
   "metadata": {},
   "outputs": [],
   "source": [
    "def concat(matrix_a, matrix_b):\n",
    "    if len(matrix_a) != len(matrix_a[0]):\n",
    "        print(\"Matrix A is not a square matrix\")\n",
    "    if len(matrix_a[0]) != len(matrix_b):\n",
    "        print(\"width of matrix A does not match length of matrix B\")\n",
    "        return\n",
    "    for i in range(len(matrix_a)):\n",
    "        matrix_a[i].append(matrix_b[i])\n",
    "    return matrix_a"
   ]
  },
  {
   "cell_type": "code",
   "execution_count": 159,
   "metadata": {},
   "outputs": [],
   "source": [
    "def gauss_elimination(matrix_a, matrix_b):\n",
    "    augmented_matrix = concat(matrix_a, matrix_a)\n",
    "    n = len(a_matrix)\n",
    "    zeros = [0] * (n)\n",
    "    for k in range(n-1):\n",
    "        for i in range(k+1, n):\n",
    "            factor = augmented_matrix[i][k]/augmented_matrix[k][k]\n",
    "            for j in range(k, n+1):\n",
    "                augmented_matrix[i][j] = augmented_matrix[i][j] - factor * augmented_matrix[k][j]\n",
    "    for i in range(n - 1, -1, -1):\n",
    "        zeros[i] = augmented_matrix[i][n]\n",
    "        for j in range(i+1, n):\n",
    "            zeros[i] = zeros[i] - augmented_matrix[i][j] * zeros[j]\n",
    "        zeros[i] /= augmented_matrix[i][i]\n",
    "    return zeros"
   ]
  }
 ],
 "metadata": {
  "kernelspec": {
   "display_name": "Python 3 (ipykernel)",
   "language": "python",
   "name": "python3"
  },
  "language_info": {
   "codemirror_mode": {
    "name": "ipython",
    "version": 3
   },
   "file_extension": ".py",
   "mimetype": "text/x-python",
   "name": "python",
   "nbconvert_exporter": "python",
   "pygments_lexer": "ipython3",
   "version": "3.12.4"
  }
 },
 "nbformat": 4,
 "nbformat_minor": 4
}
