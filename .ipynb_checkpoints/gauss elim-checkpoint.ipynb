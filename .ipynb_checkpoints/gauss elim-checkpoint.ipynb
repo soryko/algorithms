{
 "cells": [
  {
   "cell_type": "code",
   "execution_count": 149,
   "metadata": {},
   "outputs": [],
   "source": [
    "def concat(matrix_a, matrix_b):\n",
    "    if len(matrix_a) != len(matrix_a[0]):\n",
    "        print(\"Matrix A is not a square matrix\")\n",
    "    if len(matrix_a[0]) != len(matrix_b):\n",
    "        print(\"width of matrix A does not match length of matrix B\")\n",
    "        return\n",
    "    for i in range(len(matrix_a)):\n",
    "        matrix_a[i].append(matrix_b[i])\n",
    "    return matrix_a"
   ]
  },
  {
   "cell_type": "code",
   "execution_count": 150,
   "metadata": {},
   "outputs": [],
   "source": [
    "a_matrix = [[1, 1, 1],\n",
    "            [6, -4, 5],\n",
    "            [5, 2, 2]]\n",
    "b_matrix = [2,31,13]"
   ]
  },
  {
   "cell_type": "code",
   "execution_count": 151,
   "metadata": {},
   "outputs": [],
   "source": [
    "n = len(a_matrix)\n",
    "zeros = [0] * (n)"
   ]
  },
  {
   "cell_type": "code",
   "execution_count": 152,
   "metadata": {},
   "outputs": [],
   "source": [
    "augmented_matrix = concat(a_matrix, b_matrix)"
   ]
  },
  {
   "cell_type": "code",
   "execution_count": 153,
   "metadata": {},
   "outputs": [
    {
     "name": "stdout",
     "output_type": "stream",
     "text": [
      "factor:  6.0\n",
      "augmented_matrix:  [[1, 1, 1, 2], [0.0, -4, 5, 31], [5, 2, 2, 13]]\n",
      "augmented_matrix:  [[1, 1, 1, 2], [0.0, -10.0, 5, 31], [5, 2, 2, 13]]\n",
      "augmented_matrix:  [[1, 1, 1, 2], [0.0, -10.0, -1.0, 31], [5, 2, 2, 13]]\n",
      "augmented_matrix:  [[1, 1, 1, 2], [0.0, -10.0, -1.0, 19.0], [5, 2, 2, 13]]\n",
      "iteration k:  0 , iteration i:  1 iteration j:  3\n",
      "factor:  5.0\n",
      "augmented_matrix:  [[1, 1, 1, 2], [0.0, -10.0, -1.0, 19.0], [0.0, 2, 2, 13]]\n",
      "augmented_matrix:  [[1, 1, 1, 2], [0.0, -10.0, -1.0, 19.0], [0.0, -3.0, 2, 13]]\n",
      "augmented_matrix:  [[1, 1, 1, 2], [0.0, -10.0, -1.0, 19.0], [0.0, -3.0, -3.0, 13]]\n",
      "augmented_matrix:  [[1, 1, 1, 2], [0.0, -10.0, -1.0, 19.0], [0.0, -3.0, -3.0, 3.0]]\n",
      "iteration k:  0 , iteration i:  2 iteration j:  3\n",
      "factor:  0.3\n",
      "augmented_matrix:  [[1, 1, 1, 2], [0.0, -10.0, -1.0, 19.0], [0.0, 0.0, -3.0, 3.0]]\n",
      "augmented_matrix:  [[1, 1, 1, 2], [0.0, -10.0, -1.0, 19.0], [0.0, 0.0, -2.7, 3.0]]\n",
      "augmented_matrix:  [[1, 1, 1, 2], [0.0, -10.0, -1.0, 19.0], [0.0, 0.0, -2.7, -2.7]]\n",
      "iteration k:  1 , iteration i:  2 iteration j:  3\n",
      "[[1, 1, 1, 2], [0.0, -10.0, -1.0, 19.0], [0.0, 0.0, -2.7, -2.7]]\n",
      "[3.0, -2.0, 1.0]\n"
     ]
    }
   ],
   "source": [
    "for k in range(n-1):\n",
    "    for i in range(k+1, n):\n",
    "        #print(\"augmented_matrix[i][k]: \", augmented_matrix[i][k])\n",
    "        factor = augmented_matrix[i][k]/augmented_matrix[k][k]\n",
    "        print(\"factor: \",factor)\n",
    "        for j in range(k, n+1):\n",
    "            augmented_matrix[i][j] = augmented_matrix[i][j] - factor * augmented_matrix[k][j]\n",
    "            print(\"augmented_matrix: \", augmented_matrix)\n",
    "        print(\"iteration k: \", k, \", iteration i: \", i, \"iteration j: \", j)\n",
    "for i in range(n - 1, -1, -1):\n",
    "    zeros[i] = augmented_matrix[i][n]\n",
    "    for j in range(i+1, n):\n",
    "        zeros[i] = zeros[i] - augmented_matrix[i][j] * zeros[j]\n",
    "    zeros[i] /= augmented_matrix[i][i]\n",
    "print(augmented_matrix)\n",
    "print(zeros)"
   ]
  }
 ],
 "metadata": {
  "kernelspec": {
   "display_name": "Python 3 (ipykernel)",
   "language": "python",
   "name": "python3"
  },
  "language_info": {
   "codemirror_mode": {
    "name": "ipython",
    "version": 3
   },
   "file_extension": ".py",
   "mimetype": "text/x-python",
   "name": "python",
   "nbconvert_exporter": "python",
   "pygments_lexer": "ipython3",
   "version": "3.12.4"
  }
 },
 "nbformat": 4,
 "nbformat_minor": 4
}
